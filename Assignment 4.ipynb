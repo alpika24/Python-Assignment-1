{
 "cells": [
  {
   "cell_type": "markdown",
   "id": "fa08df33",
   "metadata": {},
   "source": [
    "# Assignment 4"
   ]
  },
  {
   "cell_type": "markdown",
   "id": "9f8a3e3b",
   "metadata": {},
   "source": [
    "1.1 Write a Python Program(with class concepts) to find the area of the triangle using the below \n",
    "formula.\n",
    "area = (s*(s-a)*(s-b)*(s-c)) ** 0.5\n",
    "Function to take the length of the sides of triangle from user should be defined in the parent \n",
    "class and function to calculate the area should be defined in subclass"
   ]
  },
  {
   "cell_type": "code",
   "execution_count": 5,
   "id": "adf73e57",
   "metadata": {},
   "outputs": [],
   "source": [
    "class Triangle_sides:\n",
    "    def __init__(self):\n",
    "        self.a = float(input(\"enter the side 1\"))\n",
    "        self.b = float(input(\"enter the side 2\"))\n",
    "        self.c = float(input(\"enter the side 3\"))\n",
    "        "
   ]
  },
  {
   "cell_type": "code",
   "execution_count": 9,
   "id": "d91265b4",
   "metadata": {},
   "outputs": [],
   "source": [
    "class Area_triangle(Triangle_sides):\n",
    "    def Area(self):\n",
    "        s = (self.a+self.b+self.c)/2\n",
    "        area = (s*(s-self.a)*(s-self.b)*(s-self.c))**0.5\n",
    "        print(f\"Area of triangle is : {area:.3f}\")"
   ]
  },
  {
   "cell_type": "code",
   "execution_count": 10,
   "id": "225eb995",
   "metadata": {},
   "outputs": [
    {
     "name": "stdout",
     "output_type": "stream",
     "text": [
      "enter the side 122.4\n",
      "enter the side 245.4\n",
      "enter the side 356.3\n",
      "Area of triangle is : 485.326\n"
     ]
    }
   ],
   "source": [
    "a=Area_triangle()\n",
    "a.Area()"
   ]
  },
  {
   "cell_type": "markdown",
   "id": "a143dc63",
   "metadata": {},
   "source": [
    "1.2 Write a function filter_long_words() that takes a list of words and an integer n and returns \n",
    "the list of words that are longer than n.\n"
   ]
  },
  {
   "cell_type": "code",
   "execution_count": 20,
   "id": "d3c399f0",
   "metadata": {},
   "outputs": [],
   "source": [
    "def filter_long_words(words,n):\n",
    "    list = []\n",
    "    for i in words:\n",
    "        if len(i) > n:\n",
    "            list.append(i)\n",
    "    return(list)\n"
   ]
  },
  {
   "cell_type": "code",
   "execution_count": 22,
   "id": "aad932f3",
   "metadata": {},
   "outputs": [
    {
     "name": "stdout",
     "output_type": "stream",
     "text": [
      "['Python', 'SCience', 'Computer']\n"
     ]
    }
   ],
   "source": [
    "l = [\"Data\",\"Python\",\"SCience\",\"Computer\"]\n",
    "n=5\n",
    "print(filter_long_words(l,n))"
   ]
  },
  {
   "cell_type": "code",
   "execution_count": null,
   "id": "9f864b98",
   "metadata": {},
   "outputs": [],
   "source": [
    "2.1 Write a Python program using function concept that maps list of words into a list of integers \n",
    "representing the lengths of the corresponding words.\n",
    "Hint: If a list [ ab,cde,erty] is passed on to the python function output should come as [2,3,4]\n",
    "Here 2,3 and 4 are the lengths of the words in the list.\n"
   ]
  },
  {
   "cell_type": "code",
   "execution_count": 33,
   "id": "7b798066",
   "metadata": {},
   "outputs": [],
   "source": [
    "def word_in_int(word):\n",
    "    return(len(word))"
   ]
  },
  {
   "cell_type": "code",
   "execution_count": 36,
   "id": "c6a3309a",
   "metadata": {},
   "outputs": [
    {
     "data": {
      "text/plain": [
       "[5, 9, 5]"
      ]
     },
     "execution_count": 36,
     "metadata": {},
     "output_type": "execute_result"
    }
   ],
   "source": [
    "list_of_words = [\"noida\",\"bengaluru\",\"delhi\"]\n",
    "result = map(word_in_int,list_of_words)\n",
    "list(result)"
   ]
  },
  {
   "cell_type": "code",
   "execution_count": null,
   "id": "475e6e83",
   "metadata": {},
   "outputs": [],
   "source": [
    "without using map"
   ]
  },
  {
   "cell_type": "code",
   "execution_count": 29,
   "id": "64026b83",
   "metadata": {},
   "outputs": [],
   "source": [
    "def word_in_int(words):\n",
    "    l = []\n",
    "    for i in words:\n",
    "        l.append(len(i))\n",
    "    return(l)"
   ]
  },
  {
   "cell_type": "code",
   "execution_count": 30,
   "id": "1746e535",
   "metadata": {},
   "outputs": [
    {
     "data": {
      "text/plain": [
       "[5, 9, 5]"
      ]
     },
     "execution_count": 30,
     "metadata": {},
     "output_type": "execute_result"
    }
   ],
   "source": [
    "list_of_words = [\"noida\",\"bengaluru\",\"delhi\"]\n",
    "word_in_int(list_of_words)"
   ]
  },
  {
   "cell_type": "code",
   "execution_count": null,
   "id": "4662565f",
   "metadata": {},
   "outputs": [],
   "source": [
    "2.2 Write a Python function which takes a character (i.e. a string of length 1) and returns True if \n",
    "it is a vowel, False otherwise."
   ]
  },
  {
   "cell_type": "code",
   "execution_count": 55,
   "id": "1788cf6f",
   "metadata": {},
   "outputs": [],
   "source": [
    "def is_vowel(char):\n",
    "    ch = char.lower()\n",
    "    if ch==\"a\" or ch==\"e\" or ch ==\"i\" or ch ==\"o\" or ch ==\"u\":\n",
    "        return True\n",
    "    else:\n",
    "        return False"
   ]
  },
  {
   "cell_type": "code",
   "execution_count": 56,
   "id": "9f7f9238",
   "metadata": {},
   "outputs": [
    {
     "name": "stdout",
     "output_type": "stream",
     "text": [
      "enter any characterA\n"
     ]
    },
    {
     "data": {
      "text/plain": [
       "True"
      ]
     },
     "execution_count": 56,
     "metadata": {},
     "output_type": "execute_result"
    }
   ],
   "source": [
    "\n",
    "c = input(\"enter any character\")\n",
    "is_vowel(c)"
   ]
  },
  {
   "cell_type": "code",
   "execution_count": null,
   "id": "b31482cf",
   "metadata": {},
   "outputs": [],
   "source": []
  }
 ],
 "metadata": {
  "kernelspec": {
   "display_name": "Python 3",
   "language": "python",
   "name": "python3"
  },
  "language_info": {
   "codemirror_mode": {
    "name": "ipython",
    "version": 3
   },
   "file_extension": ".py",
   "mimetype": "text/x-python",
   "name": "python",
   "nbconvert_exporter": "python",
   "pygments_lexer": "ipython3",
   "version": "3.8.8"
  }
 },
 "nbformat": 4,
 "nbformat_minor": 5
}
