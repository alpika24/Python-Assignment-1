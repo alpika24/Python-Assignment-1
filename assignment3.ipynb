{
 "cells": [
  {
   "cell_type": "markdown",
   "id": "aa3a2d8a",
   "metadata": {},
   "source": [
    "# Assignment-3"
   ]
  },
  {
   "cell_type": "markdown",
   "id": "52b116c7",
   "metadata": {},
   "source": [
    "Write a Python Program to implement your own myreduce() function which works exactly \n",
    "like Python's built-in function reduce()"
   ]
  },
  {
   "cell_type": "code",
   "execution_count": 8,
   "id": "85b1a756",
   "metadata": {},
   "outputs": [],
   "source": [
    "def myreduce(func,values):\n",
    "    result = values[0]\n",
    "    for i in values[1:]:\n",
    "        result = func(result,i)\n",
    "    return result"
   ]
  },
  {
   "cell_type": "code",
   "execution_count": 9,
   "id": "81bac7da",
   "metadata": {},
   "outputs": [],
   "source": [
    "def func(a,b):\n",
    "    return a+b"
   ]
  },
  {
   "cell_type": "code",
   "execution_count": 10,
   "id": "42e49e93",
   "metadata": {},
   "outputs": [
    {
     "name": "stdout",
     "output_type": "stream",
     "text": [
      "ReduceOutput is:32\n"
     ]
    }
   ],
   "source": [
    "list = [2,4,5,6,7,8]\n",
    "print(f\"ReduceOutput is:{myreduce(func,list)}\")"
   ]
  },
  {
   "cell_type": "markdown",
   "id": "4ea049f9",
   "metadata": {},
   "source": [
    " Write a Python program to implement your own myfilter() function which works exactly \n",
    "like Python's built-in function filter()"
   ]
  },
  {
   "cell_type": "code",
   "execution_count": 74,
   "id": "8e984621",
   "metadata": {},
   "outputs": [],
   "source": [
    "def myfilter(func,values):\n",
    "    l = []\n",
    "    for i in values:\n",
    "        if func(i):\n",
    "            l.append(i)\n",
    "    return l"
   ]
  },
  {
   "cell_type": "code",
   "execution_count": 75,
   "id": "9b5873e6",
   "metadata": {},
   "outputs": [],
   "source": [
    "def func(x):\n",
    "    if x%2 == 0:\n",
    "        return True\n",
    "    else:\n",
    "        return False\n",
    "   "
   ]
  },
  {
   "cell_type": "code",
   "execution_count": 76,
   "id": "8e2b5df6",
   "metadata": {},
   "outputs": [],
   "source": [
    "lst = [23,44,56,76,8,9]"
   ]
  },
  {
   "cell_type": "code",
   "execution_count": 77,
   "id": "50518003",
   "metadata": {},
   "outputs": [
    {
     "name": "stdout",
     "output_type": "stream",
     "text": [
      "Filter Values are: [44, 56, 76, 8]\n"
     ]
    }
   ],
   "source": [
    "print(f\"Filter Values are: {myfilter(func,lst)}\")"
   ]
  },
  {
   "cell_type": "markdown",
   "id": "75a73878",
   "metadata": {},
   "source": [
    "2. Implement List comprehensions to produce the following lists. \n",
    "Write List comprehensions to produce the following Lists\n",
    "2. Implement List comprehensions to produce the following lists. \n",
    "Write List comprehensions to produce the following Lists\n",
    "['A', 'C', 'A', 'D', 'G', 'I', ’L’, ‘ D’]\n",
    "['x', 'xx', 'xxx', 'xxxx', 'y', 'yy', 'yyy', 'yyyy', 'z', 'zz', 'zzz', 'zzzz'] \n",
    "['x', 'y', 'z', 'xx', 'yy', 'zz', 'xxx', 'yyy', 'zzz', 'xxxx', 'yyyy', 'zzzz'] \n",
    "[[2], [3], [4], [3], [4], [5], [4], [5], [6]] [[2, 3, 4, 5], [3, 4, 5, 6], \n",
    "[4, 5, 6, 7], [5, 6, 7, 8]]\n",
    "[(1, 1), (2, 1), (3, 1), (1, 2), (2, 2), (3, 2), (1, 3), (2, 3), (3, 3)"
   ]
  },
  {
   "cell_type": "markdown",
   "id": "41d685e7",
   "metadata": {},
   "source": [
    "['x', 'xx', 'xxx', 'xxxx', 'y', 'yy', 'yyy', 'yyyy', 'z', 'zz', 'zzz', 'zzzz'] "
   ]
  },
  {
   "cell_type": "code",
   "execution_count": 78,
   "id": "c3ff2582",
   "metadata": {},
   "outputs": [],
   "source": [
    "lst = ['x','y','z']"
   ]
  },
  {
   "cell_type": "code",
   "execution_count": 82,
   "id": "3a99b4b1",
   "metadata": {},
   "outputs": [],
   "source": [
    "list1 = [i*j for i in lst for j in range(1,5)]"
   ]
  },
  {
   "cell_type": "code",
   "execution_count": 83,
   "id": "7209c66a",
   "metadata": {},
   "outputs": [
    {
     "data": {
      "text/plain": [
       "['x', 'xx', 'xxx', 'xxxx', 'y', 'yy', 'yyy', 'yyyy', 'z', 'zz', 'zzz', 'zzzz']"
      ]
     },
     "execution_count": 83,
     "metadata": {},
     "output_type": "execute_result"
    }
   ],
   "source": [
    "list1"
   ]
  },
  {
   "cell_type": "markdown",
   "id": "9d3aed7e",
   "metadata": {},
   "source": [
    "['x', 'y', 'z', 'xx', 'yy', 'zz', 'xxx', 'yyy', 'zzz', 'xxxx', 'yyyy', 'zzzz']"
   ]
  },
  {
   "cell_type": "code",
   "execution_count": 85,
   "id": "5d95abe1",
   "metadata": {},
   "outputs": [],
   "source": [
    "lst = ['x', 'y', 'z']"
   ]
  },
  {
   "cell_type": "code",
   "execution_count": 86,
   "id": "f43621a9",
   "metadata": {},
   "outputs": [],
   "source": [
    "list1 = [i*j for i in range(1,4) for j in lst]"
   ]
  },
  {
   "cell_type": "code",
   "execution_count": 87,
   "id": "8d0fd23a",
   "metadata": {},
   "outputs": [
    {
     "data": {
      "text/plain": [
       "['x', 'y', 'z', 'xx', 'yy', 'zz', 'xxx', 'yyy', 'zzz']"
      ]
     },
     "execution_count": 87,
     "metadata": {},
     "output_type": "execute_result"
    }
   ],
   "source": [
    "list1"
   ]
  },
  {
   "cell_type": "markdown",
   "id": "3ec781e6",
   "metadata": {},
   "source": [
    "[[2], [3], [4], [3], [4], [5], [4], [5], [6]] [[2, 3, 4, 5], [3, 4, 5, 6],"
   ]
  },
  {
   "cell_type": "code",
   "execution_count": 26,
   "id": "6843ab0f",
   "metadata": {},
   "outputs": [],
   "source": [
    "list2 = [[i+j] for i in range(3) for j in range(2,5)],[[m+n for n in range(2,6)] for m in range(4)]"
   ]
  },
  {
   "cell_type": "code",
   "execution_count": 27,
   "id": "afea8d84",
   "metadata": {},
   "outputs": [
    {
     "data": {
      "text/plain": [
       "([[2], [3], [4], [3], [4], [5], [4], [5], [6]],\n",
       " [[2, 3, 4, 5], [3, 4, 5, 6], [4, 5, 6, 7], [5, 6, 7, 8]])"
      ]
     },
     "execution_count": 27,
     "metadata": {},
     "output_type": "execute_result"
    }
   ],
   "source": [
    "list2"
   ]
  },
  {
   "cell_type": "markdown",
   "id": "005ea57e",
   "metadata": {},
   "source": [
    "[(1, 1), (2, 1), (3, 1), (1, 2), (2, 2), (3, 2), (1, 3), (2, 3), (3, 3)]"
   ]
  },
  {
   "cell_type": "code",
   "execution_count": 34,
   "id": "96e05f35",
   "metadata": {},
   "outputs": [],
   "source": [
    "list3 = [[i,j] for i in range(1,4) for j in range(1,4)]"
   ]
  },
  {
   "cell_type": "code",
   "execution_count": 35,
   "id": "fd8b0404",
   "metadata": {},
   "outputs": [
    {
     "data": {
      "text/plain": [
       "[[1, 1], [1, 2], [1, 3], [2, 1], [2, 2], [2, 3], [3, 1], [3, 2], [3, 3]]"
      ]
     },
     "execution_count": 35,
     "metadata": {},
     "output_type": "execute_result"
    }
   ],
   "source": [
    "list3"
   ]
  },
  {
   "cell_type": "code",
   "execution_count": null,
   "id": "269ac6c1",
   "metadata": {},
   "outputs": [],
   "source": []
  }
 ],
 "metadata": {
  "kernelspec": {
   "display_name": "Python 3",
   "language": "python",
   "name": "python3"
  },
  "language_info": {
   "codemirror_mode": {
    "name": "ipython",
    "version": 3
   },
   "file_extension": ".py",
   "mimetype": "text/x-python",
   "name": "python",
   "nbconvert_exporter": "python",
   "pygments_lexer": "ipython3",
   "version": "3.8.8"
  }
 },
 "nbformat": 4,
 "nbformat_minor": 5
}
